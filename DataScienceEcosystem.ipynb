{
 "cells": [
  {
   "cell_type": "markdown",
   "id": "ee3114f0-55de-4de5-8dcc-0a1391f08abd",
   "metadata": {},
   "source": [
    "# Exercise 2: Create markdown cell with title of the notebook"
   ]
  },
  {
   "cell_type": "markdown",
   "id": "79aa6df3-778d-4295-8353-01f1105135af",
   "metadata": {},
   "source": [
    "# Data Science Tools and Ecosystem"
   ]
  },
  {
   "cell_type": "markdown",
   "id": "5024c693-e545-4a69-bef5-cb749952cd4b",
   "metadata": {},
   "source": [
    "# Exercise 3: Create a markdown cell for an introduction"
   ]
  },
  {
   "cell_type": "markdown",
   "id": "a4726972-66e1-4acd-bd23-308a08a7dadf",
   "metadata": {},
   "source": [
    "In this notebook, Data Science Tools and Ecosystem are summarized."
   ]
  },
  {
   "cell_type": "markdown",
   "id": "498ae484-b8ef-44f3-a868-1c263ebaf8e0",
   "metadata": {},
   "source": [
    "# Exercise 10: Insert a markdown cell to list Objectives"
   ]
  },
  {
   "cell_type": "markdown",
   "id": "14064386-75da-4523-a35e-ec6c50f2e464",
   "metadata": {},
   "source": [
    "**Objectives:**\n",
    "- List popular languages for Data Science\n",
    "- List main libraries for data scientists\n",
    "- Write some popular open source tools in Data Science\n",
    "- Write some arithmetic expressions in code cells and run them\n",
    "- Use markdown cells to write headings, tables, etc."
   ]
  },
  {
   "cell_type": "markdown",
   "id": "c33e6b30-2143-4b6f-a22c-4f8255586b4c",
   "metadata": {},
   "source": [
    "# Exercise 4: Create a markdown cell to list data science languages"
   ]
  },
  {
   "cell_type": "markdown",
   "id": "059de4d7-4bca-4c30-a5d5-f4718a58571e",
   "metadata": {},
   "source": [
    "Some of the most popular languages that Data Scientists use are:\n",
    "1. Python\n",
    "2. R\n",
    "3. Scala\n",
    "4. SQL\n",
    "5. Java"
   ]
  },
  {
   "cell_type": "markdown",
   "id": "8fca5269-4741-49eb-afce-37950a61c071",
   "metadata": {},
   "source": [
    "# Exercise 5: Create a markdown cell to list data science libraries"
   ]
  },
  {
   "cell_type": "markdown",
   "id": "ea941af6-c271-42cb-bb05-da72a1847775",
   "metadata": {},
   "source": [
    "Some of the commonly used libraries used by Data Scientists include:\n",
    "1. Matplotlib\n",
    "2. Scikit-learn\n",
    "3. Pandas\n",
    "4. TensorFlow\n",
    "5. Keras"
   ]
  },
  {
   "cell_type": "markdown",
   "id": "457bb4aa-9d1f-44ba-93e5-b15ad19c2125",
   "metadata": {},
   "source": [
    "# Exercise 6: Create a markdown cell with a table of Data Science tools"
   ]
  },
  {
   "cell_type": "markdown",
   "id": "b009d676-a50e-4a62-8b01-21f65e4b86ff",
   "metadata": {},
   "source": [
    "| Data Science Tools |\n",
    "|--------------------|\n",
    "|       Jupyter      |\n",
    "|       RStudio      |\n",
    "|       Spyder       |"
   ]
  },
  {
   "cell_type": "markdown",
   "id": "6b1adc37-8549-4b71-9507-56531960b93c",
   "metadata": {},
   "source": [
    "# Exercise 7: Create a markdown cell introducing arithmetic expression example"
   ]
  },
  {
   "cell_type": "markdown",
   "id": "9373cb09-80a5-404e-969c-ddb0606d54f0",
   "metadata": {},
   "source": [
    "### Below are a few examples of evaluating arithmetic expressions in Python"
   ]
  },
  {
   "cell_type": "markdown",
   "id": "fc42ec6b-0978-4dab-a18a-7352f52d13a5",
   "metadata": {},
   "source": [
    "# Exercise 8: Create a code cell to multiply and add numbers"
   ]
  },
  {
   "cell_type": "code",
   "execution_count": 16,
   "id": "f312b60b-79aa-4c14-879e-dba002defd7e",
   "metadata": {},
   "outputs": [
    {
     "data": {
      "text/plain": [
       "17"
      ]
     },
     "execution_count": 16,
     "metadata": {},
     "output_type": "execute_result"
    }
   ],
   "source": [
    "# This is an example of arithmetic expression that multiplies and add integers\n",
    "(3*4)+5"
   ]
  },
  {
   "cell_type": "markdown",
   "id": "de7dbaa1-ef6d-4d7d-aa58-af654e34047e",
   "metadata": {},
   "source": [
    "# Exercise 9: Create a code cell to convert minutes to hours"
   ]
  },
  {
   "cell_type": "code",
   "execution_count": 18,
   "id": "18991f7e-a128-4f34-b1cc-9e50974483ed",
   "metadata": {},
   "outputs": [
    {
     "name": "stdout",
     "output_type": "stream",
     "text": [
      "3.3333333333333335\n"
     ]
    }
   ],
   "source": [
    "# This expression will convert 200 minutes in hours (dividing by 60)\n",
    "h = 200/60\n",
    "print(h)"
   ]
  },
  {
   "cell_type": "markdown",
   "id": "faf0bd72-4e9a-41ae-95e6-13a0c4efc2ea",
   "metadata": {},
   "source": [
    "# Exercise 11: Create a markdown cell to indicate the Author's name"
   ]
  },
  {
   "cell_type": "markdown",
   "id": "684f55d3-2fc0-4357-b87c-41cebb1e1b79",
   "metadata": {},
   "source": [
    "## Author\n",
    "Gustavo Fernandez Cabrera"
   ]
  },
  {
   "cell_type": "code",
   "execution_count": null,
   "id": "eb29b523-cdfb-4c23-afbe-1e57fa295a9e",
   "metadata": {},
   "outputs": [],
   "source": []
  }
 ],
 "metadata": {
  "kernelspec": {
   "display_name": "Python [conda env:base] *",
   "language": "python",
   "name": "conda-base-py"
  },
  "language_info": {
   "codemirror_mode": {
    "name": "ipython",
    "version": 3
   },
   "file_extension": ".py",
   "mimetype": "text/x-python",
   "name": "python",
   "nbconvert_exporter": "python",
   "pygments_lexer": "ipython3",
   "version": "3.12.7"
  }
 },
 "nbformat": 4,
 "nbformat_minor": 5
}
